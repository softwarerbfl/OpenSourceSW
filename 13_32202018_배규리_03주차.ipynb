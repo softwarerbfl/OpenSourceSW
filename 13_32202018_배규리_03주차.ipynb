{
  "nbformat": 4,
  "nbformat_minor": 0,
  "metadata": {
    "colab": {
      "name": "13_32202018_배규리_03주차.ipynb",
      "provenance": [],
      "collapsed_sections": []
    },
    "kernelspec": {
      "name": "python3",
      "display_name": "Python 3"
    }
  },
  "cells": [
    {
      "cell_type": "markdown",
      "metadata": {
        "id": "AxStd0hHpR4S"
      },
      "source": [
        "# **1.3 문자열**"
      ]
    },
    {
      "cell_type": "code",
      "metadata": {
        "colab": {
          "base_uri": "https://localhost:8080/"
        },
        "id": "mXpQSgOYih0y",
        "outputId": "e719af70-c0be-4448-e69d-79fe0d8ea4a3"
      },
      "source": [
        "print(\"Hello World\")"
      ],
      "execution_count": null,
      "outputs": [
        {
          "output_type": "stream",
          "text": [
            "Hello World\n"
          ],
          "name": "stdout"
        }
      ]
    },
    {
      "cell_type": "code",
      "metadata": {
        "id": "-jM63oYLjREJ"
      },
      "source": [
        "a=1\r\n",
        "b=2"
      ],
      "execution_count": null,
      "outputs": []
    },
    {
      "cell_type": "code",
      "metadata": {
        "colab": {
          "base_uri": "https://localhost:8080/"
        },
        "id": "TasAIkMQjrHd",
        "outputId": "4bac19b9-a745-4efd-ee82-358567a45f22"
      },
      "source": [
        "print(a)\r\n",
        "print(\"변수 b의 값은 : \",b)"
      ],
      "execution_count": null,
      "outputs": [
        {
          "output_type": "stream",
          "text": [
            "1\n",
            "변수 b의 값은 :  2\n"
          ],
          "name": "stdout"
        }
      ]
    },
    {
      "cell_type": "code",
      "metadata": {
        "colab": {
          "base_uri": "https://localhost:8080/"
        },
        "id": "vGyjHFfzkPam",
        "outputId": "8db86bb5-5591-400c-da21-aa4a7cf88514"
      },
      "source": [
        "a=3;b=4\r\n",
        "print(a,\",\",b)\r\n",
        "print(a,b)"
      ],
      "execution_count": null,
      "outputs": [
        {
          "output_type": "stream",
          "text": [
            "3 , 4\n",
            "3 4\n"
          ],
          "name": "stdout"
        }
      ]
    },
    {
      "cell_type": "code",
      "metadata": {
        "colab": {
          "base_uri": "https://localhost:8080/"
        },
        "id": "TxvpKiB5kj2A",
        "outputId": "6a90d473-0e8e-46b6-9b3c-f490d1e6e5df"
      },
      "source": [
        "a=100000\r\n",
        "print(\"a=\",a,\",\",type(a))"
      ],
      "execution_count": null,
      "outputs": [
        {
          "output_type": "stream",
          "text": [
            "a= 100000 , <class 'int'>\n"
          ],
          "name": "stdout"
        }
      ]
    },
    {
      "cell_type": "code",
      "metadata": {
        "colab": {
          "base_uri": "https://localhost:8080/"
        },
        "id": "ASyGKzJXkx_3",
        "outputId": "0bd4fb19-19c7-47d3-c81b-18179d2b9ec7"
      },
      "source": [
        "a=1.23\r\n",
        "print(\"a=\",a,\",\",type(a))"
      ],
      "execution_count": null,
      "outputs": [
        {
          "output_type": "stream",
          "text": [
            "a= 1.23 , <class 'float'>\n"
          ],
          "name": "stdout"
        }
      ]
    },
    {
      "cell_type": "code",
      "metadata": {
        "colab": {
          "base_uri": "https://localhost:8080/"
        },
        "id": "DZHMxcm-lMPV",
        "outputId": "d2e865a7-0f25-4a3a-e4a3-9956d0c3cf38"
      },
      "source": [
        "a=True\r\n",
        "print(\"a=\",a,\",\",type(a))"
      ],
      "execution_count": null,
      "outputs": [
        {
          "output_type": "stream",
          "text": [
            "a= True , <class 'bool'>\n"
          ],
          "name": "stdout"
        }
      ]
    },
    {
      "cell_type": "code",
      "metadata": {
        "colab": {
          "base_uri": "https://localhost:8080/"
        },
        "id": "Lu-ea-9Tk5PW",
        "outputId": "c655b2fa-6965-4bdc-d9d5-82eae4b3177b"
      },
      "source": [
        "a=[1,2,3]\r\n",
        "print(\"a=\",a,\",\",type(a))"
      ],
      "execution_count": null,
      "outputs": [
        {
          "output_type": "stream",
          "text": [
            "a= [1, 2, 3] , <class 'list'>\n"
          ],
          "name": "stdout"
        }
      ]
    },
    {
      "cell_type": "code",
      "metadata": {
        "colab": {
          "base_uri": "https://localhost:8080/"
        },
        "id": "qLcsTj5DlAWu",
        "outputId": "25661d10-c418-4d63-ed73-13d201cedc87"
      },
      "source": [
        "a=(1,2,3)\r\n",
        "print(\"a=\",a,\",\",type(a))"
      ],
      "execution_count": null,
      "outputs": [
        {
          "output_type": "stream",
          "text": [
            "a= (1, 2, 3) , <class 'tuple'>\n"
          ],
          "name": "stdout"
        }
      ]
    },
    {
      "cell_type": "code",
      "metadata": {
        "colab": {
          "base_uri": "https://localhost:8080/"
        },
        "id": "GPdN4VwHlJdf",
        "outputId": "3a643415-78eb-4f7b-bb23-ddd3539ca870"
      },
      "source": [
        "print(\"Escape Sequence\")"
      ],
      "execution_count": null,
      "outputs": [
        {
          "output_type": "stream",
          "text": [
            "Escape Sequence\n"
          ],
          "name": "stdout"
        }
      ]
    },
    {
      "cell_type": "code",
      "metadata": {
        "colab": {
          "base_uri": "https://localhost:8080/"
        },
        "id": "kqAxqnDIlkZw",
        "outputId": "90c4a12c-417d-4e15-d289-83b7c70a5e39"
      },
      "source": [
        "a=\"여름\"\r\n",
        "b=\"방학\"\r\n",
        "c=a+b\r\n",
        "print(c)"
      ],
      "execution_count": null,
      "outputs": [
        {
          "output_type": "stream",
          "text": [
            "여름방학\n"
          ],
          "name": "stdout"
        }
      ]
    },
    {
      "cell_type": "markdown",
      "metadata": {
        "id": "HlZ1Iu__wRup"
      },
      "source": [
        "**1.3.3 문자열의 반복**"
      ]
    },
    {
      "cell_type": "code",
      "metadata": {
        "colab": {
          "base_uri": "https://localhost:8080/"
        },
        "id": "ZmIJZ-HSlp36",
        "outputId": "dd471056-ba6a-4c24-8fed-a8c756a1ed45"
      },
      "source": [
        "a=\"Hi!\"\r\n",
        "b=a*3\r\n",
        "print(b)"
      ],
      "execution_count": null,
      "outputs": [
        {
          "output_type": "stream",
          "text": [
            "Hi!Hi!Hi!\n"
          ],
          "name": "stdout"
        }
      ]
    },
    {
      "cell_type": "code",
      "metadata": {
        "colab": {
          "base_uri": "https://localhost:8080/"
        },
        "id": "lLeQhh7Plwow",
        "outputId": "94764b85-07bf-48cb-9cd1-2217b9bb38cd"
      },
      "source": [
        "a=\"package\"\r\n",
        "print(a)\r\n",
        "print(a[2])\r\n",
        "print(a[-2])"
      ],
      "execution_count": null,
      "outputs": [
        {
          "output_type": "stream",
          "text": [
            "package\n",
            "c\n",
            "g\n"
          ],
          "name": "stdout"
        }
      ]
    },
    {
      "cell_type": "markdown",
      "metadata": {
        "id": "pC8VB0IYpHu_"
      },
      "source": [
        "**1.3.5 %연산자사용**"
      ]
    },
    {
      "cell_type": "code",
      "metadata": {
        "colab": {
          "base_uri": "https://localhost:8080/"
        },
        "id": "Hdvnzg76mB4I",
        "outputId": "bb1d8fb4-cdd6-425f-bb2c-922488e5c2d7"
      },
      "source": [
        "a=5;b=6\r\n",
        "print(a,\",\",b)\r\n",
        "print(\"a=%d, b=%d\"%(a,b))"
      ],
      "execution_count": null,
      "outputs": [
        {
          "output_type": "stream",
          "text": [
            "5 , 6\n",
            "a=5, b=6\n"
          ],
          "name": "stdout"
        }
      ]
    },
    {
      "cell_type": "code",
      "metadata": {
        "colab": {
          "base_uri": "https://localhost:8080/"
        },
        "id": "MTnfD6e_mb02",
        "outputId": "b3ca062b-e31f-414e-a9c4-91d2e8ea39c0"
      },
      "source": [
        "print(\"%4d\" %25 )\r\n",
        "print(\"%d\" %125 )"
      ],
      "execution_count": null,
      "outputs": [
        {
          "output_type": "stream",
          "text": [
            "  25\n",
            "125\n"
          ],
          "name": "stdout"
        }
      ]
    },
    {
      "cell_type": "code",
      "metadata": {
        "colab": {
          "base_uri": "https://localhost:8080/"
        },
        "id": "O23U-Z7Pmo_H",
        "outputId": "f0956f25-301a-4757-e976-3c383e355f33"
      },
      "source": [
        "print(\"%-4d\" %25 )"
      ],
      "execution_count": null,
      "outputs": [
        {
          "output_type": "stream",
          "text": [
            "25  \n"
          ],
          "name": "stdout"
        }
      ]
    },
    {
      "cell_type": "code",
      "metadata": {
        "colab": {
          "base_uri": "https://localhost:8080/"
        },
        "id": "t0uRNXyHmup5",
        "outputId": "a160a445-859a-4d89-83ae-74b094391460"
      },
      "source": [
        "print(\"%04d\" %25 )"
      ],
      "execution_count": null,
      "outputs": [
        {
          "output_type": "stream",
          "text": [
            "0025\n"
          ],
          "name": "stdout"
        }
      ]
    },
    {
      "cell_type": "code",
      "metadata": {
        "colab": {
          "base_uri": "https://localhost:8080/"
        },
        "id": "NJxvo8x8mwQI",
        "outputId": "d623bb75-31cb-4c58-81bd-20b7d313b535"
      },
      "source": [
        "print(\"%.3f\" %3.14)"
      ],
      "execution_count": null,
      "outputs": [
        {
          "output_type": "stream",
          "text": [
            "3.140\n"
          ],
          "name": "stdout"
        }
      ]
    },
    {
      "cell_type": "code",
      "metadata": {
        "colab": {
          "base_uri": "https://localhost:8080/"
        },
        "id": "tRmD4ocLm_lf",
        "outputId": "b6426eac-70ef-476c-ac6b-bba3895a5838"
      },
      "source": [
        "print(\"%f\" %3.14)"
      ],
      "execution_count": null,
      "outputs": [
        {
          "output_type": "stream",
          "text": [
            "3.140000\n"
          ],
          "name": "stdout"
        }
      ]
    },
    {
      "cell_type": "markdown",
      "metadata": {
        "id": "anou39Ixo_oF"
      },
      "source": [
        "**1.3.6 format() 메소드**"
      ]
    },
    {
      "cell_type": "code",
      "metadata": {
        "colab": {
          "base_uri": "https://localhost:8080/"
        },
        "id": "7puy4WO2nIYg",
        "outputId": "82d35e6c-59f3-4c25-e957-e9b293f7eb5b"
      },
      "source": [
        "a=\"서울\"\r\n",
        "b=3\r\n",
        "print(\"{}은 {}위입니다.\". format(a,b))"
      ],
      "execution_count": null,
      "outputs": [
        {
          "output_type": "stream",
          "text": [
            "서울은 3위입니다.\n"
          ],
          "name": "stdout"
        }
      ]
    },
    {
      "cell_type": "code",
      "metadata": {
        "colab": {
          "base_uri": "https://localhost:8080/"
        },
        "id": "TghsuCppnbcH",
        "outputId": "09dcd34e-a4b1-4fa9-c6dc-3eff6ecb7bf3"
      },
      "source": [
        "a=\"서울\"\r\n",
        "b=3\r\n",
        "print(f'{a}은 {b}위입니다.')"
      ],
      "execution_count": null,
      "outputs": [
        {
          "output_type": "stream",
          "text": [
            "서울은 3위입니다.\n"
          ],
          "name": "stdout"
        }
      ]
    },
    {
      "cell_type": "code",
      "metadata": {
        "colab": {
          "base_uri": "https://localhost:8080/",
          "height": 35
        },
        "id": "Y1Phkhlrnr33",
        "outputId": "da1edd9a-ef6a-4d89-b072-be680300ead8"
      },
      "source": [
        "\"I eat {0} apples\".format(3)"
      ],
      "execution_count": null,
      "outputs": [
        {
          "output_type": "execute_result",
          "data": {
            "application/vnd.google.colaboratory.intrinsic+json": {
              "type": "string"
            },
            "text/plain": [
              "'I eat 3 apples'"
            ]
          },
          "metadata": {
            "tags": []
          },
          "execution_count": 43
        }
      ]
    },
    {
      "cell_type": "code",
      "metadata": {
        "colab": {
          "base_uri": "https://localhost:8080/",
          "height": 35
        },
        "id": "GBXyeT55oDLy",
        "outputId": "2b559359-1be0-4605-cdac-118dd868e918"
      },
      "source": [
        "\"I eat {0} apples\".format(\"five\")"
      ],
      "execution_count": null,
      "outputs": [
        {
          "output_type": "execute_result",
          "data": {
            "application/vnd.google.colaboratory.intrinsic+json": {
              "type": "string"
            },
            "text/plain": [
              "'I eat five apples'"
            ]
          },
          "metadata": {
            "tags": []
          },
          "execution_count": 44
        }
      ]
    },
    {
      "cell_type": "code",
      "metadata": {
        "colab": {
          "base_uri": "https://localhost:8080/",
          "height": 35
        },
        "id": "D3OqIFw7oMzC",
        "outputId": "1aae2602-e2d0-4f97-ea25-5c4d4d7dafaa"
      },
      "source": [
        "number=10\r\n",
        "day=\"three\"\r\n",
        "\"I ate {1} apples. so I was sick for {0} days.\".format(number,day)"
      ],
      "execution_count": null,
      "outputs": [
        {
          "output_type": "execute_result",
          "data": {
            "application/vnd.google.colaboratory.intrinsic+json": {
              "type": "string"
            },
            "text/plain": [
              "'I ate three apples. so I was sick for 10 days.'"
            ]
          },
          "metadata": {
            "tags": []
          },
          "execution_count": 49
        }
      ]
    },
    {
      "cell_type": "code",
      "metadata": {
        "colab": {
          "base_uri": "https://localhost:8080/",
          "height": 35
        },
        "id": "kDZFi6W7ockS",
        "outputId": "34a0a9e3-0930-4f2d-d86d-d40e7db97ed6"
      },
      "source": [
        "\"I ate {number} apples. so I was sick for {day} days.\".format(number=10,day=3)"
      ],
      "execution_count": null,
      "outputs": [
        {
          "output_type": "execute_result",
          "data": {
            "application/vnd.google.colaboratory.intrinsic+json": {
              "type": "string"
            },
            "text/plain": [
              "'I ate 10 apples. so I was sick for 3 days.'"
            ]
          },
          "metadata": {
            "tags": []
          },
          "execution_count": 48
        }
      ]
    },
    {
      "cell_type": "code",
      "metadata": {
        "colab": {
          "base_uri": "https://localhost:8080/",
          "height": 35
        },
        "id": "P6q19D0VowK4",
        "outputId": "cbb26a78-fa02-4ce2-ee6f-56a9cb2f5278"
      },
      "source": [
        "\"I ate {0} apples. so I was sick for {day} days.\".format(10,day=3)"
      ],
      "execution_count": null,
      "outputs": [
        {
          "output_type": "execute_result",
          "data": {
            "application/vnd.google.colaboratory.intrinsic+json": {
              "type": "string"
            },
            "text/plain": [
              "'I ate 10 apples. so I was sick for 3 days.'"
            ]
          },
          "metadata": {
            "tags": []
          },
          "execution_count": 50
        }
      ]
    },
    {
      "cell_type": "code",
      "metadata": {
        "colab": {
          "base_uri": "https://localhost:8080/",
          "height": 35
        },
        "id": "Pr5M8Sv_p4Rc",
        "outputId": "9fb68c80-4223-43fb-fa6c-c558bd1761c3"
      },
      "source": [
        "#왼쪽 정렬\r\n",
        "\"{0:<10}\".format(\"hi\")"
      ],
      "execution_count": null,
      "outputs": [
        {
          "output_type": "execute_result",
          "data": {
            "application/vnd.google.colaboratory.intrinsic+json": {
              "type": "string"
            },
            "text/plain": [
              "'hi        '"
            ]
          },
          "metadata": {
            "tags": []
          },
          "execution_count": 51
        }
      ]
    },
    {
      "cell_type": "code",
      "metadata": {
        "colab": {
          "base_uri": "https://localhost:8080/",
          "height": 35
        },
        "id": "xAcyCCh7qDmi",
        "outputId": "9b1ae737-0f59-4d94-ea0c-5321ea13aefd"
      },
      "source": [
        "#오른쪽 정렬\r\n",
        "\"{0:>10}\".format(\"hi\")"
      ],
      "execution_count": null,
      "outputs": [
        {
          "output_type": "execute_result",
          "data": {
            "application/vnd.google.colaboratory.intrinsic+json": {
              "type": "string"
            },
            "text/plain": [
              "'        hi'"
            ]
          },
          "metadata": {
            "tags": []
          },
          "execution_count": 52
        }
      ]
    },
    {
      "cell_type": "code",
      "metadata": {
        "colab": {
          "base_uri": "https://localhost:8080/",
          "height": 35
        },
        "id": "sFps19o9qLoj",
        "outputId": "4bf05eca-be82-43b2-ba34-dac6ce6ebcd3"
      },
      "source": [
        "#가운데 정렬\r\n",
        "\"{0:^10}\".format(\"hi\")"
      ],
      "execution_count": null,
      "outputs": [
        {
          "output_type": "execute_result",
          "data": {
            "application/vnd.google.colaboratory.intrinsic+json": {
              "type": "string"
            },
            "text/plain": [
              "'    hi    '"
            ]
          },
          "metadata": {
            "tags": []
          },
          "execution_count": 53
        }
      ]
    },
    {
      "cell_type": "code",
      "metadata": {
        "colab": {
          "base_uri": "https://localhost:8080/"
        },
        "id": "GQyKqC3YqQk5",
        "outputId": "2a4ba2b2-8889-4360-ac6d-9a1e55faeff5"
      },
      "source": [
        "#공백채우기\r\n",
        "print(\"{0:=^10}\".format(\"hi\"))\r\n",
        "print(\"{0:!<10}\".format(\"hi\"))"
      ],
      "execution_count": null,
      "outputs": [
        {
          "output_type": "stream",
          "text": [
            "====hi====\n",
            "hi!!!!!!!!\n"
          ],
          "name": "stdout"
        }
      ]
    },
    {
      "cell_type": "code",
      "metadata": {
        "colab": {
          "base_uri": "https://localhost:8080/",
          "height": 35
        },
        "id": "pqOJO0aFqjfr",
        "outputId": "0595c307-e88d-4b71-e3d3-4f68dfe43665"
      },
      "source": [
        "y=3.141492\r\n",
        "\"{0:0.4f}\".format(y)"
      ],
      "execution_count": null,
      "outputs": [
        {
          "output_type": "execute_result",
          "data": {
            "application/vnd.google.colaboratory.intrinsic+json": {
              "type": "string"
            },
            "text/plain": [
              "'3.1415'"
            ]
          },
          "metadata": {
            "tags": []
          },
          "execution_count": 56
        }
      ]
    },
    {
      "cell_type": "code",
      "metadata": {
        "colab": {
          "base_uri": "https://localhost:8080/",
          "height": 35
        },
        "id": "eWNRrxhjq9Md",
        "outputId": "53947f1b-8999-4c3a-9192-4820cb6aaf7e"
      },
      "source": [
        " y=3.141492\r\n",
        "\"{0:10.4f}\".format(y)"
      ],
      "execution_count": null,
      "outputs": [
        {
          "output_type": "execute_result",
          "data": {
            "application/vnd.google.colaboratory.intrinsic+json": {
              "type": "string"
            },
            "text/plain": [
              "'    3.1415'"
            ]
          },
          "metadata": {
            "tags": []
          },
          "execution_count": 57
        }
      ]
    },
    {
      "cell_type": "code",
      "metadata": {
        "colab": {
          "base_uri": "https://localhost:8080/",
          "height": 35
        },
        "id": "uKRjJcJhv8lt",
        "outputId": "3b3a5bfc-d5c7-4343-832e-2a12610a7622"
      },
      "source": [
        "\"{{and}}\".format()"
      ],
      "execution_count": null,
      "outputs": [
        {
          "output_type": "execute_result",
          "data": {
            "application/vnd.google.colaboratory.intrinsic+json": {
              "type": "string"
            },
            "text/plain": [
              "'{and}'"
            ]
          },
          "metadata": {
            "tags": []
          },
          "execution_count": 59
        }
      ]
    },
    {
      "cell_type": "markdown",
      "metadata": {
        "id": "lr6IPMSIwG2h"
      },
      "source": [
        "**1.3.7 문자열**"
      ]
    },
    {
      "cell_type": "code",
      "metadata": {
        "colab": {
          "base_uri": "https://localhost:8080/",
          "height": 35
        },
        "id": "8nYF6BK1wFyB",
        "outputId": "58d6aa7f-856a-41bd-be2a-48df92b4e350"
      },
      "source": [
        "name='홍길동'\r\n",
        "age=30\r\n",
        "f'나의 이름은 {name}입니다. 나이는 {age}입니다.'"
      ],
      "execution_count": null,
      "outputs": [
        {
          "output_type": "execute_result",
          "data": {
            "application/vnd.google.colaboratory.intrinsic+json": {
              "type": "string"
            },
            "text/plain": [
              "'나의 이름은 홍길동입니다. 나이는 30입니다.'"
            ]
          },
          "metadata": {
            "tags": []
          },
          "execution_count": 60
        }
      ]
    },
    {
      "cell_type": "code",
      "metadata": {
        "colab": {
          "base_uri": "https://localhost:8080/",
          "height": 35
        },
        "id": "nLGggWNgxBpy",
        "outputId": "d0fa78f3-f3c0-403d-ad60-7d9f044c2ef7"
      },
      "source": [
        " age=30\r\n",
        " f'나는 내년이면 {age+1}살이 된다.'"
      ],
      "execution_count": null,
      "outputs": [
        {
          "output_type": "execute_result",
          "data": {
            "application/vnd.google.colaboratory.intrinsic+json": {
              "type": "string"
            },
            "text/plain": [
              "'나는 내년이면 31살이 된다.'"
            ]
          },
          "metadata": {
            "tags": []
          },
          "execution_count": 61
        }
      ]
    },
    {
      "cell_type": "code",
      "metadata": {
        "colab": {
          "base_uri": "https://localhost:8080/",
          "height": 35
        },
        "id": "IM8ZEcjxxIof",
        "outputId": "23b00391-6ac5-4656-f6a3-ae6bde4bf062"
      },
      "source": [
        "#딕셔너리는 key와 value라는 것을 한 쌍으로 갖는 자료형\r\n",
        "d={'name':'홍길동','age':30}\r\n",
        "f'나의 이름은 {d[\"name\"]}입니다. 나이는 {d[\"age\"]}입니다.'"
      ],
      "execution_count": null,
      "outputs": [
        {
          "output_type": "execute_result",
          "data": {
            "application/vnd.google.colaboratory.intrinsic+json": {
              "type": "string"
            },
            "text/plain": [
              "'나의 이름은 홍길동입니다. 나이는 30입니다.'"
            ]
          },
          "metadata": {
            "tags": []
          },
          "execution_count": 65
        }
      ]
    },
    {
      "cell_type": "code",
      "metadata": {
        "colab": {
          "base_uri": "https://localhost:8080/"
        },
        "id": "SICIYZTSxjLZ",
        "outputId": "fa1e9708-a613-4481-f924-805a91e2f8eb"
      },
      "source": [
        "print(f'{\"hi\":<10}')\r\n",
        "print(f'{\"hi\":^10}')\r\n",
        "print(f'{\"hi\":>10}')"
      ],
      "execution_count": null,
      "outputs": [
        {
          "output_type": "stream",
          "text": [
            "hi        \n",
            "    hi    \n",
            "        hi\n"
          ],
          "name": "stdout"
        }
      ]
    },
    {
      "cell_type": "code",
      "metadata": {
        "colab": {
          "base_uri": "https://localhost:8080/"
        },
        "id": "50OpyXRmyAdu",
        "outputId": "3f7668a2-06fb-429c-879d-e9cabea572f2"
      },
      "source": [
        "print(f'{\"hi\":=^10}')\r\n",
        "print(f'{\"hi\":!<10}')"
      ],
      "execution_count": null,
      "outputs": [
        {
          "output_type": "stream",
          "text": [
            "====hi====\n",
            "hi!!!!!!!!\n"
          ],
          "name": "stdout"
        }
      ]
    },
    {
      "cell_type": "code",
      "metadata": {
        "colab": {
          "base_uri": "https://localhost:8080/"
        },
        "id": "MRHHBF_3yIN-",
        "outputId": "e96a30e4-82ab-40b7-99a2-17e28d08eda2"
      },
      "source": [
        "y=3.42134234\r\n",
        "print(f'{y:0.4f}')\r\n",
        "print(f'{y:10.4f}')"
      ],
      "execution_count": null,
      "outputs": [
        {
          "output_type": "stream",
          "text": [
            "3.4213\n",
            "    3.4213\n"
          ],
          "name": "stdout"
        }
      ]
    },
    {
      "cell_type": "code",
      "metadata": {
        "colab": {
          "base_uri": "https://localhost:8080/",
          "height": 35
        },
        "id": "x1rvvpIVybJE",
        "outputId": "54c8027d-3586-4350-93c7-1a88ad32e0f7"
      },
      "source": [
        "f'{{and}}'"
      ],
      "execution_count": null,
      "outputs": [
        {
          "output_type": "execute_result",
          "data": {
            "application/vnd.google.colaboratory.intrinsic+json": {
              "type": "string"
            },
            "text/plain": [
              "'{and}'"
            ]
          },
          "metadata": {
            "tags": []
          },
          "execution_count": 74
        }
      ]
    },
    {
      "cell_type": "markdown",
      "metadata": {
        "id": "tCUlZk9Yyhnt"
      },
      "source": [
        "# **1.4 문자열 관련 함수**"
      ]
    },
    {
      "cell_type": "markdown",
      "metadata": {
        "id": "qKedghElyo2q"
      },
      "source": [
        "**1.4.1 문자 개수 세기(count)**"
      ]
    },
    {
      "cell_type": "code",
      "metadata": {
        "colab": {
          "base_uri": "https://localhost:8080/"
        },
        "id": "u9gxkMVtyod0",
        "outputId": "0795e7f8-7e16-4212-8d0c-dd0b28bc4376"
      },
      "source": [
        "a=\"hobby\"\r\n",
        "a.count(\"b\")"
      ],
      "execution_count": null,
      "outputs": [
        {
          "output_type": "execute_result",
          "data": {
            "text/plain": [
              "2"
            ]
          },
          "metadata": {
            "tags": []
          },
          "execution_count": 75
        }
      ]
    },
    {
      "cell_type": "markdown",
      "metadata": {
        "id": "IfiOftVJy3yU"
      },
      "source": [
        "**1.4.2 위치 알려주기1(find)**"
      ]
    },
    {
      "cell_type": "code",
      "metadata": {
        "colab": {
          "base_uri": "https://localhost:8080/"
        },
        "id": "83zVpd-Lygvd",
        "outputId": "f9e82b17-213b-41f6-e8e5-e51ea796a0f8"
      },
      "source": [
        "a=\"Python Is the best choice\"\r\n",
        "print(a.find('b'))\r\n",
        "print(a.find('k')) #찾지 못하면 -1 반환"
      ],
      "execution_count": null,
      "outputs": [
        {
          "output_type": "stream",
          "text": [
            "14\n",
            "-1\n"
          ],
          "name": "stdout"
        }
      ]
    },
    {
      "cell_type": "markdown",
      "metadata": {
        "id": "QJoL9USdzHRk"
      },
      "source": [
        "**1.4.3 위치 알려주기2(index)**"
      ]
    },
    {
      "cell_type": "code",
      "metadata": {
        "colab": {
          "base_uri": "https://localhost:8080/"
        },
        "id": "xMz42Xd8zOdi",
        "outputId": "82b79140-e3c9-4745-acd3-bd0bc7fd84d7"
      },
      "source": [
        "a=\"Life is too short\"\r\n",
        "print(a.index('t'))\r\n",
        "#print(a.index('k')) 찾지 못하면 error 발생"
      ],
      "execution_count": null,
      "outputs": [
        {
          "output_type": "stream",
          "text": [
            "8\n"
          ],
          "name": "stdout"
        }
      ]
    },
    {
      "cell_type": "markdown",
      "metadata": {
        "id": "GwA8gOcfzgan"
      },
      "source": [
        "**1.4.4 문자열 삽입(Join)**"
      ]
    },
    {
      "cell_type": "code",
      "metadata": {
        "colab": {
          "base_uri": "https://localhost:8080/",
          "height": 35
        },
        "id": "aho9P6YizmJD",
        "outputId": "d6c6db7a-9c2e-4f23-9239-533fbf2ec1fa"
      },
      "source": [
        "','.join(\"abcd\")"
      ],
      "execution_count": null,
      "outputs": [
        {
          "output_type": "execute_result",
          "data": {
            "application/vnd.google.colaboratory.intrinsic+json": {
              "type": "string"
            },
            "text/plain": [
              "'a,b,c,d'"
            ]
          },
          "metadata": {
            "tags": []
          },
          "execution_count": 81
        }
      ]
    },
    {
      "cell_type": "code",
      "metadata": {
        "colab": {
          "base_uri": "https://localhost:8080/",
          "height": 35
        },
        "id": "aJJ8ldswzs7-",
        "outputId": "8e896044-c9c8-4d98-d85d-1e885fb22de3"
      },
      "source": [
        "\",\".join(['a','b','c','d'])"
      ],
      "execution_count": null,
      "outputs": [
        {
          "output_type": "execute_result",
          "data": {
            "application/vnd.google.colaboratory.intrinsic+json": {
              "type": "string"
            },
            "text/plain": [
              "'a,b,c,d'"
            ]
          },
          "metadata": {
            "tags": []
          },
          "execution_count": 82
        }
      ]
    },
    {
      "cell_type": "markdown",
      "metadata": {
        "id": "j7KYRdAqz143"
      },
      "source": [
        "**1.4.5 소문자를 대문자로 바꾸기(upper)**"
      ]
    },
    {
      "cell_type": "code",
      "metadata": {
        "colab": {
          "base_uri": "https://localhost:8080/",
          "height": 35
        },
        "id": "RXfLLB68z1Rb",
        "outputId": "c4bc8f9d-e8f7-4fbf-85c1-1dca1433a745"
      },
      "source": [
        "a=\"hi\"\r\n",
        "a.upper()"
      ],
      "execution_count": null,
      "outputs": [
        {
          "output_type": "execute_result",
          "data": {
            "application/vnd.google.colaboratory.intrinsic+json": {
              "type": "string"
            },
            "text/plain": [
              "'HI'"
            ]
          },
          "metadata": {
            "tags": []
          },
          "execution_count": 83
        }
      ]
    },
    {
      "cell_type": "markdown",
      "metadata": {
        "id": "1ufOi9xpz8E7"
      },
      "source": [
        "**1.4.6 대문자를 소문자로 바꾸기(lower)**"
      ]
    },
    {
      "cell_type": "code",
      "metadata": {
        "colab": {
          "base_uri": "https://localhost:8080/",
          "height": 35
        },
        "id": "IpHt7ysXz_2s",
        "outputId": "f519a869-2c68-4bc7-e2ab-cc2b7a618fad"
      },
      "source": [
        "a=\"HI\"\r\n",
        "a.lower()"
      ],
      "execution_count": null,
      "outputs": [
        {
          "output_type": "execute_result",
          "data": {
            "application/vnd.google.colaboratory.intrinsic+json": {
              "type": "string"
            },
            "text/plain": [
              "'hi'"
            ]
          },
          "metadata": {
            "tags": []
          },
          "execution_count": 84
        }
      ]
    },
    {
      "cell_type": "markdown",
      "metadata": {
        "id": "9LmwdUQa0DwW"
      },
      "source": [
        "**1.4.7 왼쪽 공백 지우기(lstrip)**"
      ]
    },
    {
      "cell_type": "code",
      "metadata": {
        "colab": {
          "base_uri": "https://localhost:8080/",
          "height": 35
        },
        "id": "FpJL2o_B0DIV",
        "outputId": "01803d54-5988-4b1a-e212-d0d89e2008b9"
      },
      "source": [
        "a=\" hi\"\r\n",
        "a.lstrip()"
      ],
      "execution_count": null,
      "outputs": [
        {
          "output_type": "execute_result",
          "data": {
            "application/vnd.google.colaboratory.intrinsic+json": {
              "type": "string"
            },
            "text/plain": [
              "'hi'"
            ]
          },
          "metadata": {
            "tags": []
          },
          "execution_count": 85
        }
      ]
    },
    {
      "cell_type": "markdown",
      "metadata": {
        "id": "nE7gLAoF0NS9"
      },
      "source": [
        "**1.4.8 오른쪽 공백지우기(rstrip)**"
      ]
    },
    {
      "cell_type": "code",
      "metadata": {
        "colab": {
          "base_uri": "https://localhost:8080/",
          "height": 35
        },
        "id": "P52y65820RPr",
        "outputId": "78cbb5f5-0345-4e1c-f7f7-8c9b65527de6"
      },
      "source": [
        "a=\"hi \"\r\n",
        "a.rstrip()"
      ],
      "execution_count": null,
      "outputs": [
        {
          "output_type": "execute_result",
          "data": {
            "application/vnd.google.colaboratory.intrinsic+json": {
              "type": "string"
            },
            "text/plain": [
              "'hi'"
            ]
          },
          "metadata": {
            "tags": []
          },
          "execution_count": 86
        }
      ]
    },
    {
      "cell_type": "markdown",
      "metadata": {
        "id": "jxid1s5d0Wmu"
      },
      "source": [
        "**1.4.9 양쪽 공백 지우기(strip)**"
      ]
    },
    {
      "cell_type": "code",
      "metadata": {
        "colab": {
          "base_uri": "https://localhost:8080/",
          "height": 35
        },
        "id": "q29AFhOJ0aI9",
        "outputId": "47335f30-a550-4fb4-b67a-0d5c3e317258"
      },
      "source": [
        "a=\" hi \"\r\n",
        "a.strip()"
      ],
      "execution_count": null,
      "outputs": [
        {
          "output_type": "execute_result",
          "data": {
            "application/vnd.google.colaboratory.intrinsic+json": {
              "type": "string"
            },
            "text/plain": [
              "'hi'"
            ]
          },
          "metadata": {
            "tags": []
          },
          "execution_count": 87
        }
      ]
    },
    {
      "cell_type": "markdown",
      "metadata": {
        "id": "4DX6o50V0c4L"
      },
      "source": [
        "**1.4.10 문자열 바꾸기(replace)**"
      ]
    },
    {
      "cell_type": "code",
      "metadata": {
        "colab": {
          "base_uri": "https://localhost:8080/",
          "height": 35
        },
        "id": "IzIQ4XP60h7y",
        "outputId": "0ec8585e-9d30-47e6-bb83-e56c5959b40d"
      },
      "source": [
        "a=\"Life is too short\"\r\n",
        "a.replace(\"Life\",\"Your leg\")"
      ],
      "execution_count": null,
      "outputs": [
        {
          "output_type": "execute_result",
          "data": {
            "application/vnd.google.colaboratory.intrinsic+json": {
              "type": "string"
            },
            "text/plain": [
              "'Your leg is too short'"
            ]
          },
          "metadata": {
            "tags": []
          },
          "execution_count": 88
        }
      ]
    },
    {
      "cell_type": "markdown",
      "metadata": {
        "id": "mY7X13WG0rXD"
      },
      "source": [
        "**1.4.11 문자열 나누기(split)**"
      ]
    },
    {
      "cell_type": "code",
      "metadata": {
        "colab": {
          "base_uri": "https://localhost:8080/"
        },
        "id": "jjw_GvdB0vAF",
        "outputId": "115cac2a-973b-43ad-fa2c-68bac5efe4a3"
      },
      "source": [
        "a=\"Life is too short\"\r\n",
        "a.split()"
      ],
      "execution_count": null,
      "outputs": [
        {
          "output_type": "execute_result",
          "data": {
            "text/plain": [
              "['Life', 'is', 'too', 'short']"
            ]
          },
          "metadata": {
            "tags": []
          },
          "execution_count": 89
        }
      ]
    },
    {
      "cell_type": "code",
      "metadata": {
        "colab": {
          "base_uri": "https://localhost:8080/"
        },
        "id": "PD67Ehkt0zU2",
        "outputId": "26626e2b-404e-4e1c-f613-3541f6c188ca"
      },
      "source": [
        "b=\"a:b:c:d\"\r\n",
        "b.split(\":\")"
      ],
      "execution_count": null,
      "outputs": [
        {
          "output_type": "execute_result",
          "data": {
            "text/plain": [
              "['a', 'b', 'c', 'd']"
            ]
          },
          "metadata": {
            "tags": []
          },
          "execution_count": 90
        }
      ]
    },
    {
      "cell_type": "markdown",
      "metadata": {
        "id": "mQ_7WozL05Mg"
      },
      "source": [
        "# **1.5 List형**"
      ]
    },
    {
      "cell_type": "markdown",
      "metadata": {
        "id": "fCKLcYTC1EOt"
      },
      "source": [
        "**1.5.1 list 만들기**"
      ]
    },
    {
      "cell_type": "code",
      "metadata": {
        "id": "c3zLBzce07qr"
      },
      "source": [
        "a=[]\r\n",
        "b=[1,2,3]\r\n",
        "c=[\"Life\",\"is\",\"too\",\"short\"]\r\n",
        "d=[1,2,['Life','is']]"
      ],
      "execution_count": null,
      "outputs": []
    },
    {
      "cell_type": "markdown",
      "metadata": {
        "id": "M3DoH2Mr1U7y"
      },
      "source": [
        "**1.5.2 리스트의 인덱싱**"
      ]
    },
    {
      "cell_type": "code",
      "metadata": {
        "colab": {
          "base_uri": "https://localhost:8080/"
        },
        "id": "L_9VcZz11Mii",
        "outputId": "21e82dbb-4a86-4d33-9af1-5894da6ad960"
      },
      "source": [
        "a=[1,2,3]\r\n",
        "a"
      ],
      "execution_count": null,
      "outputs": [
        {
          "output_type": "execute_result",
          "data": {
            "text/plain": [
              "[1, 2, 3]"
            ]
          },
          "metadata": {
            "tags": []
          },
          "execution_count": 93
        }
      ]
    },
    {
      "cell_type": "code",
      "metadata": {
        "colab": {
          "base_uri": "https://localhost:8080/"
        },
        "id": "_Mbj_Zvl1cIL",
        "outputId": "48c119b4-cc72-4331-8581-ded7e1886326"
      },
      "source": [
        "a[0]"
      ],
      "execution_count": null,
      "outputs": [
        {
          "output_type": "execute_result",
          "data": {
            "text/plain": [
              "1"
            ]
          },
          "metadata": {
            "tags": []
          },
          "execution_count": 94
        }
      ]
    },
    {
      "cell_type": "code",
      "metadata": {
        "colab": {
          "base_uri": "https://localhost:8080/"
        },
        "id": "UhvVYElM1dwg",
        "outputId": "fa2ddcc7-a994-4d27-9d90-e4516d0e17db"
      },
      "source": [
        "a[0]+a[2]"
      ],
      "execution_count": null,
      "outputs": [
        {
          "output_type": "execute_result",
          "data": {
            "text/plain": [
              "4"
            ]
          },
          "metadata": {
            "tags": []
          },
          "execution_count": 95
        }
      ]
    },
    {
      "cell_type": "code",
      "metadata": {
        "colab": {
          "base_uri": "https://localhost:8080/"
        },
        "id": "yTbfdyCh1hTI",
        "outputId": "860fd34d-388c-48a3-a146-ded580654d3f"
      },
      "source": [
        "a[-1]"
      ],
      "execution_count": null,
      "outputs": [
        {
          "output_type": "execute_result",
          "data": {
            "text/plain": [
              "3"
            ]
          },
          "metadata": {
            "tags": []
          },
          "execution_count": 96
        }
      ]
    },
    {
      "cell_type": "code",
      "metadata": {
        "id": "RK2hn3mF1jya"
      },
      "source": [
        "a=[1,2,3,['a','b','c']]"
      ],
      "execution_count": null,
      "outputs": []
    },
    {
      "cell_type": "code",
      "metadata": {
        "colab": {
          "base_uri": "https://localhost:8080/"
        },
        "id": "daJ77bPu1nzj",
        "outputId": "eabf1a6a-2b40-464e-a94d-d1984269b15a"
      },
      "source": [
        "print(a[0])\r\n",
        "print(a[-1])\r\n",
        "print(a[3])"
      ],
      "execution_count": null,
      "outputs": [
        {
          "output_type": "stream",
          "text": [
            "1\n",
            "['a', 'b', 'c']\n",
            "['a', 'b', 'c']\n"
          ],
          "name": "stdout"
        }
      ]
    },
    {
      "cell_type": "code",
      "metadata": {
        "colab": {
          "base_uri": "https://localhost:8080/",
          "height": 35
        },
        "id": "blNyHqwT1orF",
        "outputId": "69e567be-c0c0-42f4-d3bb-1832c15e1e96"
      },
      "source": [
        "a[-1][0]"
      ],
      "execution_count": null,
      "outputs": [
        {
          "output_type": "execute_result",
          "data": {
            "application/vnd.google.colaboratory.intrinsic+json": {
              "type": "string"
            },
            "text/plain": [
              "'a'"
            ]
          },
          "metadata": {
            "tags": []
          },
          "execution_count": 100
        }
      ]
    },
    {
      "cell_type": "code",
      "metadata": {
        "colab": {
          "base_uri": "https://localhost:8080/",
          "height": 35
        },
        "id": "sXh5AS5b12IZ",
        "outputId": "b94f1136-e241-4ae5-e90d-65b4ef97a734"
      },
      "source": [
        "a[-1][1]"
      ],
      "execution_count": null,
      "outputs": [
        {
          "output_type": "execute_result",
          "data": {
            "application/vnd.google.colaboratory.intrinsic+json": {
              "type": "string"
            },
            "text/plain": [
              "'b'"
            ]
          },
          "metadata": {
            "tags": []
          },
          "execution_count": 102
        }
      ]
    },
    {
      "cell_type": "code",
      "metadata": {
        "colab": {
          "base_uri": "https://localhost:8080/",
          "height": 35
        },
        "id": "nw8F4fIr176Z",
        "outputId": "773da355-3ed8-456b-c252-a3cc6871a7b6"
      },
      "source": [
        "a[-1][2]"
      ],
      "execution_count": null,
      "outputs": [
        {
          "output_type": "execute_result",
          "data": {
            "application/vnd.google.colaboratory.intrinsic+json": {
              "type": "string"
            },
            "text/plain": [
              "'c'"
            ]
          },
          "metadata": {
            "tags": []
          },
          "execution_count": 103
        }
      ]
    },
    {
      "cell_type": "code",
      "metadata": {
        "colab": {
          "base_uri": "https://localhost:8080/",
          "height": 35
        },
        "id": "QEqNm9tE193p",
        "outputId": "6d6dc6a1-00d5-450b-a59f-752b2a869130"
      },
      "source": [
        "a=[1,2,['a','b',['Life','is']]]\r\n",
        "a[2][2][0]"
      ],
      "execution_count": null,
      "outputs": [
        {
          "output_type": "execute_result",
          "data": {
            "application/vnd.google.colaboratory.intrinsic+json": {
              "type": "string"
            },
            "text/plain": [
              "'Life'"
            ]
          },
          "metadata": {
            "tags": []
          },
          "execution_count": 104
        }
      ]
    },
    {
      "cell_type": "markdown",
      "metadata": {
        "id": "_oJ_csiP2oRc"
      },
      "source": [
        "**1.5.3 리스트의 슬라이싱**"
      ]
    },
    {
      "cell_type": "code",
      "metadata": {
        "colab": {
          "base_uri": "https://localhost:8080/"
        },
        "id": "2KrBvHil2q-h",
        "outputId": "3d483d75-fbc5-46ee-b4c0-b1f402df2574"
      },
      "source": [
        "a=[1,2,3,4,5]\r\n",
        "a[0:2]"
      ],
      "execution_count": null,
      "outputs": [
        {
          "output_type": "execute_result",
          "data": {
            "text/plain": [
              "[1, 2]"
            ]
          },
          "metadata": {
            "tags": []
          },
          "execution_count": 105
        }
      ]
    },
    {
      "cell_type": "code",
      "metadata": {
        "colab": {
          "base_uri": "https://localhost:8080/",
          "height": 35
        },
        "id": "O9Ue79sL2nhQ",
        "outputId": "926796fe-ab4f-4989-a16a-83339732f2f2"
      },
      "source": [
        "a=\"12345\"\r\n",
        "a[0:2]"
      ],
      "execution_count": null,
      "outputs": [
        {
          "output_type": "execute_result",
          "data": {
            "application/vnd.google.colaboratory.intrinsic+json": {
              "type": "string"
            },
            "text/plain": [
              "'12'"
            ]
          },
          "metadata": {
            "tags": []
          },
          "execution_count": 107
        }
      ]
    },
    {
      "cell_type": "code",
      "metadata": {
        "colab": {
          "base_uri": "https://localhost:8080/"
        },
        "id": "vpqVAa6L22Yc",
        "outputId": "9f1a8f39-74fb-4061-878d-e79508d89c27"
      },
      "source": [
        "a=[1,2,3,4,5]\r\n",
        "b=a[:2]\r\n",
        "c=a[2:]\r\n",
        "print(b)\r\n",
        "print(c)"
      ],
      "execution_count": null,
      "outputs": [
        {
          "output_type": "stream",
          "text": [
            "[1, 2]\n",
            "[3, 4, 5]\n"
          ],
          "name": "stdout"
        }
      ]
    },
    {
      "cell_type": "code",
      "metadata": {
        "colab": {
          "base_uri": "https://localhost:8080/"
        },
        "id": "XMjyrRsf2_rd",
        "outputId": "7b5b7df3-bb33-4739-d6e7-817513f9d97f"
      },
      "source": [
        "a=[1,2,3,['a','b','c'],4,5]\r\n",
        "a[2:5]"
      ],
      "execution_count": null,
      "outputs": [
        {
          "output_type": "execute_result",
          "data": {
            "text/plain": [
              "[3, ['a', 'b', 'c'], 4]"
            ]
          },
          "metadata": {
            "tags": []
          },
          "execution_count": 109
        }
      ]
    },
    {
      "cell_type": "code",
      "metadata": {
        "colab": {
          "base_uri": "https://localhost:8080/"
        },
        "id": "sCT-MrE53RtP",
        "outputId": "2264e4df-a890-4870-f299-b06a176f4862"
      },
      "source": [
        "a[3][:2]"
      ],
      "execution_count": null,
      "outputs": [
        {
          "output_type": "execute_result",
          "data": {
            "text/plain": [
              "['a', 'b']"
            ]
          },
          "metadata": {
            "tags": []
          },
          "execution_count": 111
        }
      ]
    },
    {
      "cell_type": "markdown",
      "metadata": {
        "id": "8uRGBTC43mkJ"
      },
      "source": [
        "**1.5.4 리스트 연산하기**"
      ]
    },
    {
      "cell_type": "code",
      "metadata": {
        "colab": {
          "base_uri": "https://localhost:8080/"
        },
        "id": "qkL2fZjA32br",
        "outputId": "f38b9be6-4238-46be-fd56-681b63a5943e"
      },
      "source": [
        "a=[1,2,3]\r\n",
        "b=[4,5,6]\r\n",
        "a+b"
      ],
      "execution_count": null,
      "outputs": [
        {
          "output_type": "execute_result",
          "data": {
            "text/plain": [
              "[1, 2, 3, 4, 5, 6]"
            ]
          },
          "metadata": {
            "tags": []
          },
          "execution_count": 114
        }
      ]
    },
    {
      "cell_type": "code",
      "metadata": {
        "colab": {
          "base_uri": "https://localhost:8080/"
        },
        "id": "jt6j4nZx38g6",
        "outputId": "0cf6d0f7-7ae0-45ef-8c0a-b903c79caf03"
      },
      "source": [
        "a=[1,2,3]\r\n",
        "a*3"
      ],
      "execution_count": null,
      "outputs": [
        {
          "output_type": "execute_result",
          "data": {
            "text/plain": [
              "[1, 2, 3, 1, 2, 3, 1, 2, 3]"
            ]
          },
          "metadata": {
            "tags": []
          },
          "execution_count": 116
        }
      ]
    },
    {
      "cell_type": "code",
      "metadata": {
        "colab": {
          "base_uri": "https://localhost:8080/"
        },
        "id": "j-IBiUfr4CZT",
        "outputId": "3ecab13b-bf53-4f82-a454-8f30991ad012"
      },
      "source": [
        "len(a)"
      ],
      "execution_count": null,
      "outputs": [
        {
          "output_type": "execute_result",
          "data": {
            "text/plain": [
              "3"
            ]
          },
          "metadata": {
            "tags": []
          },
          "execution_count": 117
        }
      ]
    },
    {
      "cell_type": "markdown",
      "metadata": {
        "id": "zqrufLFB4FLD"
      },
      "source": [
        "**1.5.5 리스트의 수정과 삭제**"
      ]
    },
    {
      "cell_type": "code",
      "metadata": {
        "colab": {
          "base_uri": "https://localhost:8080/"
        },
        "id": "BIcKBtvq4IVm",
        "outputId": "ee2cd49a-034b-47a1-f03b-5c78c3eca254"
      },
      "source": [
        "a=[1,2,3]\r\n",
        "a[2]=4\r\n",
        "a"
      ],
      "execution_count": null,
      "outputs": [
        {
          "output_type": "execute_result",
          "data": {
            "text/plain": [
              "[1, 2, 4]"
            ]
          },
          "metadata": {
            "tags": []
          },
          "execution_count": 118
        }
      ]
    },
    {
      "cell_type": "code",
      "metadata": {
        "colab": {
          "base_uri": "https://localhost:8080/"
        },
        "id": "a5tEAmFu4Qbg",
        "outputId": "154bebc2-7c65-4f66-a989-0ba44f5685e7"
      },
      "source": [
        "del a[1]\r\n",
        "a"
      ],
      "execution_count": null,
      "outputs": [
        {
          "output_type": "execute_result",
          "data": {
            "text/plain": [
              "[1, 4]"
            ]
          },
          "metadata": {
            "tags": []
          },
          "execution_count": 119
        }
      ]
    },
    {
      "cell_type": "code",
      "metadata": {
        "colab": {
          "base_uri": "https://localhost:8080/"
        },
        "id": "AhDJhwYJ4Yac",
        "outputId": "ff67410e-72e5-4b58-e06b-c6e7b382bd5d"
      },
      "source": [
        "a=[1,2,3,4,5]\r\n",
        "del a[2:]\r\n",
        "a"
      ],
      "execution_count": null,
      "outputs": [
        {
          "output_type": "execute_result",
          "data": {
            "text/plain": [
              "[1, 2]"
            ]
          },
          "metadata": {
            "tags": []
          },
          "execution_count": 120
        }
      ]
    },
    {
      "cell_type": "markdown",
      "metadata": {
        "id": "mopUrQvK4ecB"
      },
      "source": [
        "**1.5.6 리스트 관련 함수들**"
      ]
    },
    {
      "cell_type": "code",
      "metadata": {
        "colab": {
          "base_uri": "https://localhost:8080/"
        },
        "id": "hmOB87X24ida",
        "outputId": "fd188066-eb2e-4468-dd77-33a2b0a59cb1"
      },
      "source": [
        "a=[1,2,3]\r\n",
        "a.append(4)\r\n",
        "a"
      ],
      "execution_count": null,
      "outputs": [
        {
          "output_type": "execute_result",
          "data": {
            "text/plain": [
              "[1, 2, 3, 4]"
            ]
          },
          "metadata": {
            "tags": []
          },
          "execution_count": 121
        }
      ]
    },
    {
      "cell_type": "code",
      "metadata": {
        "colab": {
          "base_uri": "https://localhost:8080/"
        },
        "id": "GRIHoy-m4nLt",
        "outputId": "bc4526bc-6ee5-410b-8b67-9eada98794f2"
      },
      "source": [
        "a=[1,2,3,4]\r\n",
        "a.append([5,6])\r\n",
        "a"
      ],
      "execution_count": null,
      "outputs": [
        {
          "output_type": "execute_result",
          "data": {
            "text/plain": [
              "[1, 2, 3, 4, [5, 6]]"
            ]
          },
          "metadata": {
            "tags": []
          },
          "execution_count": 125
        }
      ]
    },
    {
      "cell_type": "code",
      "metadata": {
        "colab": {
          "base_uri": "https://localhost:8080/"
        },
        "id": "q-htGEKu4zw7",
        "outputId": "31db6a97-ce5f-4183-f4c8-c2e1d8c884e8"
      },
      "source": [
        "a=[1,4,3,2]\r\n",
        "a.sort()\r\n",
        "a"
      ],
      "execution_count": null,
      "outputs": [
        {
          "output_type": "execute_result",
          "data": {
            "text/plain": [
              "[1, 2, 3, 4]"
            ]
          },
          "metadata": {
            "tags": []
          },
          "execution_count": 126
        }
      ]
    },
    {
      "cell_type": "code",
      "metadata": {
        "colab": {
          "base_uri": "https://localhost:8080/"
        },
        "id": "Kdmjtbr2441G",
        "outputId": "16123625-550e-4f9f-89d5-39a58cc63e91"
      },
      "source": [
        "a=['a','c','b']\r\n",
        "a.sort()\r\n",
        "a"
      ],
      "execution_count": null,
      "outputs": [
        {
          "output_type": "execute_result",
          "data": {
            "text/plain": [
              "['a', 'b', 'c']"
            ]
          },
          "metadata": {
            "tags": []
          },
          "execution_count": 127
        }
      ]
    },
    {
      "cell_type": "code",
      "metadata": {
        "colab": {
          "base_uri": "https://localhost:8080/"
        },
        "id": "UpzKsvQt5BG8",
        "outputId": "fb1f507d-a586-4f9a-edfc-75a2d4bbd919"
      },
      "source": [
        "a.reverse()\r\n",
        "a"
      ],
      "execution_count": null,
      "outputs": [
        {
          "output_type": "execute_result",
          "data": {
            "text/plain": [
              "['c', 'b', 'a']"
            ]
          },
          "metadata": {
            "tags": []
          },
          "execution_count": 130
        }
      ]
    },
    {
      "cell_type": "code",
      "metadata": {
        "colab": {
          "base_uri": "https://localhost:8080/"
        },
        "id": "nYibNxRA5FdT",
        "outputId": "104fe1ca-07f0-4170-ad14-c2512ba269f8"
      },
      "source": [
        "a=[1,2,3]\r\n",
        "a.index(3)"
      ],
      "execution_count": null,
      "outputs": [
        {
          "output_type": "execute_result",
          "data": {
            "text/plain": [
              "2"
            ]
          },
          "metadata": {
            "tags": []
          },
          "execution_count": 132
        }
      ]
    },
    {
      "cell_type": "code",
      "metadata": {
        "colab": {
          "base_uri": "https://localhost:8080/"
        },
        "id": "UggJnsnm5K04",
        "outputId": "8f28560e-83d3-4f94-b6a1-13bc20f88161"
      },
      "source": [
        "a.index(1)"
      ],
      "execution_count": null,
      "outputs": [
        {
          "output_type": "execute_result",
          "data": {
            "text/plain": [
              "0"
            ]
          },
          "metadata": {
            "tags": []
          },
          "execution_count": 134
        }
      ]
    },
    {
      "cell_type": "code",
      "metadata": {
        "colab": {
          "base_uri": "https://localhost:8080/"
        },
        "id": "s5tgHcuX5OoR",
        "outputId": "1a9b380d-2720-40b5-c7c4-d8ca16891fa3"
      },
      "source": [
        " a=[1,2,3]\r\n",
        " a.insert(0,4)\r\n",
        " a"
      ],
      "execution_count": null,
      "outputs": [
        {
          "output_type": "execute_result",
          "data": {
            "text/plain": [
              "[4, 1, 2, 3]"
            ]
          },
          "metadata": {
            "tags": []
          },
          "execution_count": 135
        }
      ]
    },
    {
      "cell_type": "code",
      "metadata": {
        "colab": {
          "base_uri": "https://localhost:8080/"
        },
        "id": "D08mkJkB5Yz1",
        "outputId": "05a1c12b-0511-44af-ffc7-23bebbaf64fc"
      },
      "source": [
        "a.insert(3,5)\r\n",
        "a"
      ],
      "execution_count": null,
      "outputs": [
        {
          "output_type": "execute_result",
          "data": {
            "text/plain": [
              "[4, 1, 2, 5, 3]"
            ]
          },
          "metadata": {
            "tags": []
          },
          "execution_count": 136
        }
      ]
    },
    {
      "cell_type": "code",
      "metadata": {
        "colab": {
          "base_uri": "https://localhost:8080/"
        },
        "id": "NFGsWbvl5dKU",
        "outputId": "44316209-b695-4d90-de2a-d98157fd5820"
      },
      "source": [
        "a=[1,2,3,4,5,3]\r\n",
        "for i in a:\r\n",
        "  if(i==3):\r\n",
        "    a.remove(3)\r\n",
        "a"
      ],
      "execution_count": null,
      "outputs": [
        {
          "output_type": "execute_result",
          "data": {
            "text/plain": [
              "[1, 2, 4, 5]"
            ]
          },
          "metadata": {
            "tags": []
          },
          "execution_count": 143
        }
      ]
    },
    {
      "cell_type": "code",
      "metadata": {
        "colab": {
          "base_uri": "https://localhost:8080/"
        },
        "id": "CkFIFor85jLH",
        "outputId": "52734659-8699-417c-e0a4-eaf39b8c9e30"
      },
      "source": [
        "a=[1,2,3,4]\r\n",
        "a.pop() #지운 요소 반환"
      ],
      "execution_count": null,
      "outputs": [
        {
          "output_type": "execute_result",
          "data": {
            "text/plain": [
              "4"
            ]
          },
          "metadata": {
            "tags": []
          },
          "execution_count": 144
        }
      ]
    },
    {
      "cell_type": "code",
      "metadata": {
        "colab": {
          "base_uri": "https://localhost:8080/"
        },
        "id": "-Kep7BKT5qK4",
        "outputId": "068d42f5-633c-43ab-c1f3-8ec58fe174bd"
      },
      "source": [
        "a"
      ],
      "execution_count": null,
      "outputs": [
        {
          "output_type": "execute_result",
          "data": {
            "text/plain": [
              "[1, 2, 3]"
            ]
          },
          "metadata": {
            "tags": []
          },
          "execution_count": 145
        }
      ]
    },
    {
      "cell_type": "code",
      "metadata": {
        "colab": {
          "base_uri": "https://localhost:8080/"
        },
        "id": "5Pl75FJZ6MiJ",
        "outputId": "e5d0b83e-3bf7-4d5a-a698-4ef6bb1110da"
      },
      "source": [
        "a.pop(1)\r\n",
        "a"
      ],
      "execution_count": null,
      "outputs": [
        {
          "output_type": "execute_result",
          "data": {
            "text/plain": [
              "[1, 3]"
            ]
          },
          "metadata": {
            "tags": []
          },
          "execution_count": 146
        }
      ]
    },
    {
      "cell_type": "code",
      "metadata": {
        "colab": {
          "base_uri": "https://localhost:8080/"
        },
        "id": "0wUQhTl06P44",
        "outputId": "85c3e3b0-4543-4e4a-d26b-d8c37af66de7"
      },
      "source": [
        "a=[1,2,3,1]\r\n",
        "a.count(1)"
      ],
      "execution_count": null,
      "outputs": [
        {
          "output_type": "execute_result",
          "data": {
            "text/plain": [
              "2"
            ]
          },
          "metadata": {
            "tags": []
          },
          "execution_count": 147
        }
      ]
    },
    {
      "cell_type": "code",
      "metadata": {
        "colab": {
          "base_uri": "https://localhost:8080/"
        },
        "id": "khnYhGFU6XT4",
        "outputId": "2137eb81-3e77-4616-ae1c-72542dda95b7"
      },
      "source": [
        "a=[1,2,3]\r\n",
        "a.extend([4,5])\r\n",
        "a"
      ],
      "execution_count": null,
      "outputs": [
        {
          "output_type": "execute_result",
          "data": {
            "text/plain": [
              "[1, 2, 3, 4, 5]"
            ]
          },
          "metadata": {
            "tags": []
          },
          "execution_count": 149
        }
      ]
    },
    {
      "cell_type": "code",
      "metadata": {
        "colab": {
          "base_uri": "https://localhost:8080/"
        },
        "id": "nkeHBDi96_ud",
        "outputId": "7eae1eb4-3990-420d-b5cc-874dddc20431"
      },
      "source": [
        "b=[6,7]\r\n",
        "a.extend(b)\r\n",
        "a"
      ],
      "execution_count": null,
      "outputs": [
        {
          "output_type": "execute_result",
          "data": {
            "text/plain": [
              "[1, 2, 3, 4, 5, 6, 7]"
            ]
          },
          "metadata": {
            "tags": []
          },
          "execution_count": 150
        }
      ]
    },
    {
      "cell_type": "markdown",
      "metadata": {
        "id": "1QL8ijML7Ed8"
      },
      "source": [
        "# **1.6 Tuple형**"
      ]
    },
    {
      "cell_type": "code",
      "metadata": {
        "id": "zyd17kfq7HxU"
      },
      "source": [
        "t1=()\r\n",
        "t2=(1,)\r\n",
        "t3=(1,2,3)\r\n",
        "t4= 1,2,3\r\n",
        "t5=('a','b',('ab','cd'))"
      ],
      "execution_count": null,
      "outputs": []
    },
    {
      "cell_type": "code",
      "metadata": {
        "colab": {
          "base_uri": "https://localhost:8080/",
          "height": 186
        },
        "id": "kOeYcAy77aU1",
        "outputId": "d06211b9-2b77-4297-cb27-fa35c0a3376a"
      },
      "source": [
        "t1=(1,2,'a','b')\r\n",
        "del t1[0]"
      ],
      "execution_count": null,
      "outputs": [
        {
          "output_type": "error",
          "ename": "TypeError",
          "evalue": "ignored",
          "traceback": [
            "\u001b[0;31m---------------------------------------------------------------------------\u001b[0m",
            "\u001b[0;31mTypeError\u001b[0m                                 Traceback (most recent call last)",
            "\u001b[0;32m<ipython-input-152-b8de262ae0c8>\u001b[0m in \u001b[0;36m<module>\u001b[0;34m()\u001b[0m\n\u001b[1;32m      1\u001b[0m \u001b[0mt1\u001b[0m\u001b[0;34m=\u001b[0m\u001b[0;34m(\u001b[0m\u001b[0;36m1\u001b[0m\u001b[0;34m,\u001b[0m\u001b[0;36m2\u001b[0m\u001b[0;34m,\u001b[0m\u001b[0;34m'a'\u001b[0m\u001b[0;34m,\u001b[0m\u001b[0;34m'b'\u001b[0m\u001b[0;34m)\u001b[0m\u001b[0;34m\u001b[0m\u001b[0;34m\u001b[0m\u001b[0m\n\u001b[0;32m----> 2\u001b[0;31m \u001b[0;32mdel\u001b[0m \u001b[0mt1\u001b[0m\u001b[0;34m[\u001b[0m\u001b[0;36m0\u001b[0m\u001b[0;34m]\u001b[0m\u001b[0;34m\u001b[0m\u001b[0;34m\u001b[0m\u001b[0m\n\u001b[0m",
            "\u001b[0;31mTypeError\u001b[0m: 'tuple' object doesn't support item deletion"
          ]
        }
      ]
    },
    {
      "cell_type": "code",
      "metadata": {
        "colab": {
          "base_uri": "https://localhost:8080/",
          "height": 186
        },
        "id": "5IRd8E2l7jhO",
        "outputId": "0cc0a07e-ab6a-4cab-e706-b28ebb42cc44"
      },
      "source": [
        "t1=(1,2,'a','b')\r\n",
        "t1[0]='c'"
      ],
      "execution_count": null,
      "outputs": [
        {
          "output_type": "error",
          "ename": "TypeError",
          "evalue": "ignored",
          "traceback": [
            "\u001b[0;31m---------------------------------------------------------------------------\u001b[0m",
            "\u001b[0;31mTypeError\u001b[0m                                 Traceback (most recent call last)",
            "\u001b[0;32m<ipython-input-154-ed078f338076>\u001b[0m in \u001b[0;36m<module>\u001b[0;34m()\u001b[0m\n\u001b[1;32m      1\u001b[0m \u001b[0mt1\u001b[0m\u001b[0;34m=\u001b[0m\u001b[0;34m(\u001b[0m\u001b[0;36m1\u001b[0m\u001b[0;34m,\u001b[0m\u001b[0;36m2\u001b[0m\u001b[0;34m,\u001b[0m\u001b[0;34m'a'\u001b[0m\u001b[0;34m,\u001b[0m\u001b[0;34m'b'\u001b[0m\u001b[0;34m)\u001b[0m\u001b[0;34m\u001b[0m\u001b[0;34m\u001b[0m\u001b[0m\n\u001b[0;32m----> 2\u001b[0;31m \u001b[0mt1\u001b[0m\u001b[0;34m[\u001b[0m\u001b[0;36m0\u001b[0m\u001b[0;34m]\u001b[0m\u001b[0;34m=\u001b[0m\u001b[0;34m'c'\u001b[0m\u001b[0;34m\u001b[0m\u001b[0;34m\u001b[0m\u001b[0m\n\u001b[0m",
            "\u001b[0;31mTypeError\u001b[0m: 'tuple' object does not support item assignment"
          ]
        }
      ]
    },
    {
      "cell_type": "code",
      "metadata": {
        "colab": {
          "base_uri": "https://localhost:8080/"
        },
        "id": "1hJGE1_F7qZX",
        "outputId": "169d2a23-5781-498d-aa26-36b52fd9b1f5"
      },
      "source": [
        "t1=(1,2,'a','b')\r\n",
        "t1[0]"
      ],
      "execution_count": null,
      "outputs": [
        {
          "output_type": "execute_result",
          "data": {
            "text/plain": [
              "1"
            ]
          },
          "metadata": {
            "tags": []
          },
          "execution_count": 155
        }
      ]
    },
    {
      "cell_type": "code",
      "metadata": {
        "colab": {
          "base_uri": "https://localhost:8080/",
          "height": 35
        },
        "id": "QRbLWGzo7yeF",
        "outputId": "7718cbdb-fb03-402b-82f9-685238766e9b"
      },
      "source": [
        "t1[3]"
      ],
      "execution_count": null,
      "outputs": [
        {
          "output_type": "execute_result",
          "data": {
            "application/vnd.google.colaboratory.intrinsic+json": {
              "type": "string"
            },
            "text/plain": [
              "'b'"
            ]
          },
          "metadata": {
            "tags": []
          },
          "execution_count": 156
        }
      ]
    },
    {
      "cell_type": "code",
      "metadata": {
        "colab": {
          "base_uri": "https://localhost:8080/"
        },
        "id": "3yQiUIBr7z5E",
        "outputId": "554225df-3625-4c66-ef4b-767b6fad32d9"
      },
      "source": [
        "t1=(1,2,'a','b')\r\n",
        "t2=(3,4)\r\n",
        "t1+t2"
      ],
      "execution_count": null,
      "outputs": [
        {
          "output_type": "execute_result",
          "data": {
            "text/plain": [
              "(1, 2, 'a', 'b', 3, 4)"
            ]
          },
          "metadata": {
            "tags": []
          },
          "execution_count": 157
        }
      ]
    },
    {
      "cell_type": "code",
      "metadata": {
        "colab": {
          "base_uri": "https://localhost:8080/"
        },
        "id": "3J5hwM2I74D1",
        "outputId": "bcaf5e10-e70c-46e8-a55f-8179a913e943"
      },
      "source": [
        "t2=(3,4)\r\n",
        "t2*3"
      ],
      "execution_count": null,
      "outputs": [
        {
          "output_type": "execute_result",
          "data": {
            "text/plain": [
              "(3, 4, 3, 4, 3, 4)"
            ]
          },
          "metadata": {
            "tags": []
          },
          "execution_count": 158
        }
      ]
    },
    {
      "cell_type": "code",
      "metadata": {
        "colab": {
          "base_uri": "https://localhost:8080/"
        },
        "id": "RzkN6rVS77TF",
        "outputId": "f6b15282-95e9-4e3e-affe-47e4c12f0b29"
      },
      "source": [
        "t1=(1,2,'a','b')\r\n",
        "len(t1)"
      ],
      "execution_count": null,
      "outputs": [
        {
          "output_type": "execute_result",
          "data": {
            "text/plain": [
              "4"
            ]
          },
          "metadata": {
            "tags": []
          },
          "execution_count": 159
        }
      ]
    },
    {
      "cell_type": "markdown",
      "metadata": {
        "id": "8_wur4no8B2R"
      },
      "source": [
        "# **1.7 Dictionary 형**"
      ]
    },
    {
      "cell_type": "markdown",
      "metadata": {
        "id": "yTmiAthT8bHc"
      },
      "source": [
        "**1.7.1 Dictionary 만들기**"
      ]
    },
    {
      "cell_type": "code",
      "metadata": {
        "id": "i9mjf0Kl8EvV"
      },
      "source": [
        "dic={'name':'pey','phone':'01199993323','birth':'1118'}"
      ],
      "execution_count": null,
      "outputs": []
    },
    {
      "cell_type": "code",
      "metadata": {
        "id": "XFTtJxrG8Tk9"
      },
      "source": [
        "a={1:'hi'}"
      ],
      "execution_count": null,
      "outputs": []
    },
    {
      "cell_type": "code",
      "metadata": {
        "id": "Cjs2K9SF8W0N"
      },
      "source": [
        "a={'a':[1,2,3]}"
      ],
      "execution_count": null,
      "outputs": []
    },
    {
      "cell_type": "markdown",
      "metadata": {
        "id": "YvHNH5iG8fFE"
      },
      "source": [
        "**1.7.2 Dictionary 쌍 추가,삭제하기**"
      ]
    },
    {
      "cell_type": "code",
      "metadata": {
        "colab": {
          "base_uri": "https://localhost:8080/"
        },
        "id": "zRoy25lG8Z-W",
        "outputId": "a145e0e8-3df3-486f-b33e-7454e803791e"
      },
      "source": [
        "a={1:'a'}\r\n",
        "a[3]='b'\r\n",
        "a"
      ],
      "execution_count": null,
      "outputs": [
        {
          "output_type": "execute_result",
          "data": {
            "text/plain": [
              "{1: 'a', 3: 'b'}"
            ]
          },
          "metadata": {
            "tags": []
          },
          "execution_count": 172
        }
      ]
    },
    {
      "cell_type": "code",
      "metadata": {
        "colab": {
          "base_uri": "https://localhost:8080/"
        },
        "id": "DVXmXHIQ8sgV",
        "outputId": "f45fadd2-6842-46f1-c4a9-3f3fcd3a790d"
      },
      "source": [
        " a['name']='pey'\r\n",
        " a"
      ],
      "execution_count": null,
      "outputs": [
        {
          "output_type": "execute_result",
          "data": {
            "text/plain": [
              "{1: 'a', 3: 'b', 'name': 'pey'}"
            ]
          },
          "metadata": {
            "tags": []
          },
          "execution_count": 173
        }
      ]
    },
    {
      "cell_type": "code",
      "metadata": {
        "colab": {
          "base_uri": "https://localhost:8080/"
        },
        "id": "SD4-aqXx83cU",
        "outputId": "c7cc56b6-d6c9-4c8f-fe21-f79b6dee60b0"
      },
      "source": [
        "a[4]=[1,2,3]\r\n",
        "a"
      ],
      "execution_count": null,
      "outputs": [
        {
          "output_type": "execute_result",
          "data": {
            "text/plain": [
              "{1: 'a', 3: 'b', 4: [1, 2, 3], 'name': 'pey'}"
            ]
          },
          "metadata": {
            "tags": []
          },
          "execution_count": 174
        }
      ]
    },
    {
      "cell_type": "code",
      "metadata": {
        "colab": {
          "base_uri": "https://localhost:8080/"
        },
        "id": "Lt-O1zFS86k-",
        "outputId": "cb14ac7b-7fda-40ab-88f7-dd0b76e61fcc"
      },
      "source": [
        "del a[1]\r\n",
        "a"
      ],
      "execution_count": null,
      "outputs": [
        {
          "output_type": "execute_result",
          "data": {
            "text/plain": [
              "{3: 'b', 4: [1, 2, 3], 'name': 'pey'}"
            ]
          },
          "metadata": {
            "tags": []
          },
          "execution_count": 175
        }
      ]
    },
    {
      "cell_type": "markdown",
      "metadata": {
        "id": "H3_aKrdq9HIW"
      },
      "source": [
        "**1.7.3 Dictionary 사용하는 방법**"
      ]
    },
    {
      "cell_type": "code",
      "metadata": {
        "colab": {
          "base_uri": "https://localhost:8080/"
        },
        "id": "hCoBTrDP9Flm",
        "outputId": "cc1ec51f-ff75-46ef-9a3c-480d13f6d9a4"
      },
      "source": [
        "grade={'pey':10,'julliet':99}\r\n",
        "grade['pey']"
      ],
      "execution_count": null,
      "outputs": [
        {
          "output_type": "execute_result",
          "data": {
            "text/plain": [
              "10"
            ]
          },
          "metadata": {
            "tags": []
          },
          "execution_count": 176
        }
      ]
    },
    {
      "cell_type": "code",
      "metadata": {
        "colab": {
          "base_uri": "https://localhost:8080/"
        },
        "id": "HErSzxgc9T6N",
        "outputId": "1369b069-889a-4270-cfea-6e8a7e23b36c"
      },
      "source": [
        "grade['julliet']"
      ],
      "execution_count": null,
      "outputs": [
        {
          "output_type": "execute_result",
          "data": {
            "text/plain": [
              "99"
            ]
          },
          "metadata": {
            "tags": []
          },
          "execution_count": 177
        }
      ]
    },
    {
      "cell_type": "code",
      "metadata": {
        "colab": {
          "base_uri": "https://localhost:8080/",
          "height": 35
        },
        "id": "ttkPyQVZ9Xtc",
        "outputId": "1cdb8bc4-c12b-4168-df89-13371f12ff1e"
      },
      "source": [
        "dic={'name':'pey','phone':'01199993323','birth':'1110'}\r\n",
        "dic['name']\r\n",
        "dic['phone']\r\n",
        "dic['birth']"
      ],
      "execution_count": null,
      "outputs": [
        {
          "output_type": "execute_result",
          "data": {
            "application/vnd.google.colaboratory.intrinsic+json": {
              "type": "string"
            },
            "text/plain": [
              "'1110'"
            ]
          },
          "metadata": {
            "tags": []
          },
          "execution_count": 178
        }
      ]
    },
    {
      "cell_type": "code",
      "metadata": {
        "colab": {
          "base_uri": "https://localhost:8080/"
        },
        "id": "hsm6nGYb9ptX",
        "outputId": "710539da-a668-4629-b5bd-2abf4920af9d"
      },
      "source": [
        "a={1:'a',1:'b'} #중복되는 key값 설정시\r\n",
        "a"
      ],
      "execution_count": null,
      "outputs": [
        {
          "output_type": "execute_result",
          "data": {
            "text/plain": [
              "{1: 'b'}"
            ]
          },
          "metadata": {
            "tags": []
          },
          "execution_count": 179
        }
      ]
    },
    {
      "cell_type": "code",
      "metadata": {
        "colab": {
          "base_uri": "https://localhost:8080/",
          "height": 186
        },
        "id": "9aVShFDD9ywz",
        "outputId": "a3efe123-91a0-4141-9d6c-8a2f0ceae774"
      },
      "source": [
        "a={[1,2]:'hi'} #key에 리스트 사용 불가능\r\n",
        "a"
      ],
      "execution_count": null,
      "outputs": [
        {
          "output_type": "error",
          "ename": "TypeError",
          "evalue": "ignored",
          "traceback": [
            "\u001b[0;31m---------------------------------------------------------------------------\u001b[0m",
            "\u001b[0;31mTypeError\u001b[0m                                 Traceback (most recent call last)",
            "\u001b[0;32m<ipython-input-180-f920c0d75662>\u001b[0m in \u001b[0;36m<module>\u001b[0;34m()\u001b[0m\n\u001b[0;32m----> 1\u001b[0;31m \u001b[0ma\u001b[0m\u001b[0;34m=\u001b[0m\u001b[0;34m{\u001b[0m\u001b[0;34m[\u001b[0m\u001b[0;36m1\u001b[0m\u001b[0;34m,\u001b[0m\u001b[0;36m2\u001b[0m\u001b[0;34m]\u001b[0m\u001b[0;34m:\u001b[0m\u001b[0;34m'hi'\u001b[0m\u001b[0;34m}\u001b[0m\u001b[0;34m\u001b[0m\u001b[0;34m\u001b[0m\u001b[0m\n\u001b[0m\u001b[1;32m      2\u001b[0m \u001b[0ma\u001b[0m\u001b[0;34m\u001b[0m\u001b[0;34m\u001b[0m\u001b[0m\n",
            "\u001b[0;31mTypeError\u001b[0m: unhashable type: 'list'"
          ]
        }
      ]
    },
    {
      "cell_type": "markdown",
      "metadata": {
        "id": "DCz6gZZukmMw"
      },
      "source": [
        "**1.7.4 Dictionary 관련 함수**"
      ]
    },
    {
      "cell_type": "code",
      "metadata": {
        "id": "wGvYpPUk9vPt",
        "colab": {
          "base_uri": "https://localhost:8080/"
        },
        "outputId": "58ff52c5-93bb-4732-e9c0-507908665975"
      },
      "source": [
        "a={'name':'pey','phone':'01199993323','birth':'1119'}\r\n",
        "a.keys()"
      ],
      "execution_count": null,
      "outputs": [
        {
          "output_type": "execute_result",
          "data": {
            "text/plain": [
              "dict_keys(['name', 'phone', 'birth'])"
            ]
          },
          "metadata": {
            "tags": []
          },
          "execution_count": 1
        }
      ]
    },
    {
      "cell_type": "code",
      "metadata": {
        "colab": {
          "base_uri": "https://localhost:8080/"
        },
        "id": "G2eNWSq_k77q",
        "outputId": "431b1f00-20f1-4510-b1e1-651fc9f552da"
      },
      "source": [
        "a.values()"
      ],
      "execution_count": null,
      "outputs": [
        {
          "output_type": "execute_result",
          "data": {
            "text/plain": [
              "dict_values(['pey', '01199993323', '1119'])"
            ]
          },
          "metadata": {
            "tags": []
          },
          "execution_count": 2
        }
      ]
    },
    {
      "cell_type": "code",
      "metadata": {
        "colab": {
          "base_uri": "https://localhost:8080/"
        },
        "id": "Bbfej3KWk6Z0",
        "outputId": "c51c2f02-0b0d-49bd-e6cf-732077314033"
      },
      "source": [
        "a.items()"
      ],
      "execution_count": null,
      "outputs": [
        {
          "output_type": "execute_result",
          "data": {
            "text/plain": [
              "dict_items([('name', 'pey'), ('phone', '01199993323'), ('birth', '1119')])"
            ]
          },
          "metadata": {
            "tags": []
          },
          "execution_count": 3
        }
      ]
    },
    {
      "cell_type": "code",
      "metadata": {
        "colab": {
          "base_uri": "https://localhost:8080/"
        },
        "id": "VMgr_pRik_yN",
        "outputId": "f618ba19-a097-4eea-8a8e-7e782ce455af"
      },
      "source": [
        "a.clear()\r\n",
        "a"
      ],
      "execution_count": null,
      "outputs": [
        {
          "output_type": "execute_result",
          "data": {
            "text/plain": [
              "{}"
            ]
          },
          "metadata": {
            "tags": []
          },
          "execution_count": 4
        }
      ]
    },
    {
      "cell_type": "code",
      "metadata": {
        "colab": {
          "base_uri": "https://localhost:8080/",
          "height": 35
        },
        "id": "9D__C7lHlCz7",
        "outputId": "541dc1ba-3a43-4fe7-bf94-3513de061c70"
      },
      "source": [
        "a={'name':'pey','phone':'01199993323','birth':'1119'}\r\n",
        "a.get('name')"
      ],
      "execution_count": null,
      "outputs": [
        {
          "output_type": "execute_result",
          "data": {
            "application/vnd.google.colaboratory.intrinsic+json": {
              "type": "string"
            },
            "text/plain": [
              "'pey'"
            ]
          },
          "metadata": {
            "tags": []
          },
          "execution_count": 5
        }
      ]
    },
    {
      "cell_type": "code",
      "metadata": {
        "colab": {
          "base_uri": "https://localhost:8080/",
          "height": 222
        },
        "id": "TZbQ8bvnlHjt",
        "outputId": "f09f698f-1af2-4785-81fb-a04fcae20512"
      },
      "source": [
        "a={'name':'pey','phone':'01199993323','birth':'1119'}\r\n",
        "print(a.get('nokey'))\r\n",
        "print(a['nokey'])\r\n"
      ],
      "execution_count": null,
      "outputs": [
        {
          "output_type": "stream",
          "text": [
            "None\n"
          ],
          "name": "stdout"
        },
        {
          "output_type": "error",
          "ename": "KeyError",
          "evalue": "ignored",
          "traceback": [
            "\u001b[0;31m---------------------------------------------------------------------------\u001b[0m",
            "\u001b[0;31mKeyError\u001b[0m                                  Traceback (most recent call last)",
            "\u001b[0;32m<ipython-input-6-690fa7b15ef6>\u001b[0m in \u001b[0;36m<module>\u001b[0;34m()\u001b[0m\n\u001b[1;32m      1\u001b[0m \u001b[0ma\u001b[0m\u001b[0;34m=\u001b[0m\u001b[0;34m{\u001b[0m\u001b[0;34m'name'\u001b[0m\u001b[0;34m:\u001b[0m\u001b[0;34m'pey'\u001b[0m\u001b[0;34m,\u001b[0m\u001b[0;34m'phone'\u001b[0m\u001b[0;34m:\u001b[0m\u001b[0;34m'01199993323'\u001b[0m\u001b[0;34m,\u001b[0m\u001b[0;34m'birth'\u001b[0m\u001b[0;34m:\u001b[0m\u001b[0;34m'1119'\u001b[0m\u001b[0;34m}\u001b[0m\u001b[0;34m\u001b[0m\u001b[0;34m\u001b[0m\u001b[0m\n\u001b[1;32m      2\u001b[0m \u001b[0mprint\u001b[0m\u001b[0;34m(\u001b[0m\u001b[0ma\u001b[0m\u001b[0;34m.\u001b[0m\u001b[0mget\u001b[0m\u001b[0;34m(\u001b[0m\u001b[0;34m'nokey'\u001b[0m\u001b[0;34m)\u001b[0m\u001b[0;34m)\u001b[0m\u001b[0;34m\u001b[0m\u001b[0;34m\u001b[0m\u001b[0m\n\u001b[0;32m----> 3\u001b[0;31m \u001b[0mprint\u001b[0m\u001b[0;34m(\u001b[0m\u001b[0ma\u001b[0m\u001b[0;34m[\u001b[0m\u001b[0;34m'nokey'\u001b[0m\u001b[0;34m]\u001b[0m\u001b[0;34m)\u001b[0m\u001b[0;34m\u001b[0m\u001b[0;34m\u001b[0m\u001b[0m\n\u001b[0m",
            "\u001b[0;31mKeyError\u001b[0m: 'nokey'"
          ]
        }
      ]
    },
    {
      "cell_type": "code",
      "metadata": {
        "colab": {
          "base_uri": "https://localhost:8080/"
        },
        "id": "3qEzb5ErlSoP",
        "outputId": "9a2c110d-b090-4342-a760-9f31b15318fb"
      },
      "source": [
        "a={'name':'pey','phone':'01199993323','birth':'1119'}\r\n",
        "'name' in a"
      ],
      "execution_count": null,
      "outputs": [
        {
          "output_type": "execute_result",
          "data": {
            "text/plain": [
              "True"
            ]
          },
          "metadata": {
            "tags": []
          },
          "execution_count": 7
        }
      ]
    },
    {
      "cell_type": "code",
      "metadata": {
        "colab": {
          "base_uri": "https://localhost:8080/"
        },
        "id": "NDxbSr7SlYCD",
        "outputId": "3bba7f2c-8a74-405f-8284-69606cde2087"
      },
      "source": [
        "'email' in a"
      ],
      "execution_count": null,
      "outputs": [
        {
          "output_type": "execute_result",
          "data": {
            "text/plain": [
              "False"
            ]
          },
          "metadata": {
            "tags": []
          },
          "execution_count": 8
        }
      ]
    },
    {
      "cell_type": "markdown",
      "metadata": {
        "id": "Mlrh8F_vlco1"
      },
      "source": [
        "# **1.8 Set형**"
      ]
    },
    {
      "cell_type": "markdown",
      "metadata": {
        "id": "rFVYcFmHlhmO"
      },
      "source": [
        "**1.8.1 Set 자료형 만들기**"
      ]
    },
    {
      "cell_type": "code",
      "metadata": {
        "colab": {
          "base_uri": "https://localhost:8080/"
        },
        "id": "ghum8g0Olbps",
        "outputId": "436f5fbf-ae1b-415f-8213-5238dec5803c"
      },
      "source": [
        "s1=set([1,2,3])\r\n",
        "s1"
      ],
      "execution_count": null,
      "outputs": [
        {
          "output_type": "execute_result",
          "data": {
            "text/plain": [
              "{1, 2, 3}"
            ]
          },
          "metadata": {
            "tags": []
          },
          "execution_count": 9
        }
      ]
    },
    {
      "cell_type": "code",
      "metadata": {
        "colab": {
          "base_uri": "https://localhost:8080/"
        },
        "id": "_i2-sZFLlo1W",
        "outputId": "c9111e9b-0fca-4c21-830b-323d5791b842"
      },
      "source": [
        "s2=set([\"hello\"])\r\n",
        "s2"
      ],
      "execution_count": null,
      "outputs": [
        {
          "output_type": "execute_result",
          "data": {
            "text/plain": [
              "{'hello'}"
            ]
          },
          "metadata": {
            "tags": []
          },
          "execution_count": 10
        }
      ]
    },
    {
      "cell_type": "code",
      "metadata": {
        "colab": {
          "base_uri": "https://localhost:8080/"
        },
        "id": "2NwZU3Oilvi_",
        "outputId": "93f24a35-66c7-4024-b80f-c0f8c4e98212"
      },
      "source": [
        "s1=set([1,2,3])\r\n",
        "l=list(s1)\r\n",
        "l"
      ],
      "execution_count": null,
      "outputs": [
        {
          "output_type": "execute_result",
          "data": {
            "text/plain": [
              "[1, 2, 3]"
            ]
          },
          "metadata": {
            "tags": []
          },
          "execution_count": 11
        }
      ]
    },
    {
      "cell_type": "code",
      "metadata": {
        "colab": {
          "base_uri": "https://localhost:8080/"
        },
        "id": "Ux92NHSCl2NU",
        "outputId": "fde267a0-b4aa-41d4-da0c-ed4430765d3f"
      },
      "source": [
        "l[0]"
      ],
      "execution_count": null,
      "outputs": [
        {
          "output_type": "execute_result",
          "data": {
            "text/plain": [
              "1"
            ]
          },
          "metadata": {
            "tags": []
          },
          "execution_count": 12
        }
      ]
    },
    {
      "cell_type": "code",
      "metadata": {
        "colab": {
          "base_uri": "https://localhost:8080/"
        },
        "id": "AtUU6yoVl3vd",
        "outputId": "088314df-cec7-4909-8fc6-0b437453da2e"
      },
      "source": [
        "t1=tuple(s1)\r\n",
        "t1"
      ],
      "execution_count": null,
      "outputs": [
        {
          "output_type": "execute_result",
          "data": {
            "text/plain": [
              "(1, 2, 3)"
            ]
          },
          "metadata": {
            "tags": []
          },
          "execution_count": 13
        }
      ]
    },
    {
      "cell_type": "code",
      "metadata": {
        "colab": {
          "base_uri": "https://localhost:8080/"
        },
        "id": "JMrpPObwl7oO",
        "outputId": "f283a4fa-c449-4c05-85bd-6c68ec877c29"
      },
      "source": [
        "t1[0]"
      ],
      "execution_count": null,
      "outputs": [
        {
          "output_type": "execute_result",
          "data": {
            "text/plain": [
              "1"
            ]
          },
          "metadata": {
            "tags": []
          },
          "execution_count": 14
        }
      ]
    },
    {
      "cell_type": "markdown",
      "metadata": {
        "id": "ymEk3d6fl-Ls"
      },
      "source": [
        "**1.8.2 교집합, 합집합, 차집합 구하기**"
      ]
    },
    {
      "cell_type": "code",
      "metadata": {
        "id": "k5YIgb1ul9Wc"
      },
      "source": [
        "s1=set([1,2,3,4,5,6])\r\n",
        "s2=set([4,5,6,7,8,9])"
      ],
      "execution_count": null,
      "outputs": []
    },
    {
      "cell_type": "code",
      "metadata": {
        "colab": {
          "base_uri": "https://localhost:8080/"
        },
        "id": "_moy8h3_mHDC",
        "outputId": "1fe1edb8-b3ec-4e82-fbf8-d9ce59559cb2"
      },
      "source": [
        "s1 & s2 #교집합"
      ],
      "execution_count": null,
      "outputs": [
        {
          "output_type": "execute_result",
          "data": {
            "text/plain": [
              "{4, 5, 6}"
            ]
          },
          "metadata": {
            "tags": []
          },
          "execution_count": 20
        }
      ]
    },
    {
      "cell_type": "code",
      "metadata": {
        "colab": {
          "base_uri": "https://localhost:8080/"
        },
        "id": "E7HHfQFtmxJW",
        "outputId": "dd67eefa-5b01-4647-adc0-ead01bf3f88f"
      },
      "source": [
        "s1.intersection(s2) "
      ],
      "execution_count": null,
      "outputs": [
        {
          "output_type": "execute_result",
          "data": {
            "text/plain": [
              "{4, 5, 6}"
            ]
          },
          "metadata": {
            "tags": []
          },
          "execution_count": 21
        }
      ]
    },
    {
      "cell_type": "code",
      "metadata": {
        "colab": {
          "base_uri": "https://localhost:8080/"
        },
        "id": "XLVOxlXkm0wY",
        "outputId": "44970f79-da41-4670-cc4e-c1479a91b8d0"
      },
      "source": [
        "s1 | s2 #합집합"
      ],
      "execution_count": null,
      "outputs": [
        {
          "output_type": "execute_result",
          "data": {
            "text/plain": [
              "{1, 2, 3, 4, 5, 6, 7, 8, 9}"
            ]
          },
          "metadata": {
            "tags": []
          },
          "execution_count": 22
        }
      ]
    },
    {
      "cell_type": "code",
      "metadata": {
        "colab": {
          "base_uri": "https://localhost:8080/"
        },
        "id": "UXhwwi2Fm6FD",
        "outputId": "ab8f275a-2331-443d-e85f-daf702aeeba6"
      },
      "source": [
        "s1.union(s2)"
      ],
      "execution_count": null,
      "outputs": [
        {
          "output_type": "execute_result",
          "data": {
            "text/plain": [
              "{1, 2, 3, 4, 5, 6, 7, 8, 9}"
            ]
          },
          "metadata": {
            "tags": []
          },
          "execution_count": 23
        }
      ]
    },
    {
      "cell_type": "code",
      "metadata": {
        "colab": {
          "base_uri": "https://localhost:8080/"
        },
        "id": "TyeejPY1m-fB",
        "outputId": "d4deca4a-4165-487c-8d37-3e2c7c5dd2c6"
      },
      "source": [
        "s1-s2"
      ],
      "execution_count": null,
      "outputs": [
        {
          "output_type": "execute_result",
          "data": {
            "text/plain": [
              "{1, 2, 3}"
            ]
          },
          "metadata": {
            "tags": []
          },
          "execution_count": 24
        }
      ]
    },
    {
      "cell_type": "code",
      "metadata": {
        "colab": {
          "base_uri": "https://localhost:8080/"
        },
        "id": "hE9BeoyTnBSV",
        "outputId": "969bd020-4681-4bae-8711-08d62a570243"
      },
      "source": [
        "s2-s1"
      ],
      "execution_count": null,
      "outputs": [
        {
          "output_type": "execute_result",
          "data": {
            "text/plain": [
              "{7, 8, 9}"
            ]
          },
          "metadata": {
            "tags": []
          },
          "execution_count": 25
        }
      ]
    },
    {
      "cell_type": "code",
      "metadata": {
        "colab": {
          "base_uri": "https://localhost:8080/"
        },
        "id": "zQbEo_S0nCxV",
        "outputId": "d366da00-c906-4158-97ba-a3f70e81313c"
      },
      "source": [
        "s1.difference(s2) #차집합"
      ],
      "execution_count": null,
      "outputs": [
        {
          "output_type": "execute_result",
          "data": {
            "text/plain": [
              "{1, 2, 3}"
            ]
          },
          "metadata": {
            "tags": []
          },
          "execution_count": 26
        }
      ]
    },
    {
      "cell_type": "code",
      "metadata": {
        "colab": {
          "base_uri": "https://localhost:8080/"
        },
        "id": "JGHlalyvnGYg",
        "outputId": "2600fb7f-c4bb-4ebc-bad8-410e249f0153"
      },
      "source": [
        "s2.difference(s1) "
      ],
      "execution_count": null,
      "outputs": [
        {
          "output_type": "execute_result",
          "data": {
            "text/plain": [
              "{7, 8, 9}"
            ]
          },
          "metadata": {
            "tags": []
          },
          "execution_count": 27
        }
      ]
    },
    {
      "cell_type": "markdown",
      "metadata": {
        "id": "OUq0i1QknI66"
      },
      "source": [
        "**1.8.3 관련 함수들**"
      ]
    },
    {
      "cell_type": "code",
      "metadata": {
        "colab": {
          "base_uri": "https://localhost:8080/"
        },
        "id": "82y2toa5nLN9",
        "outputId": "053409a4-3b33-4dce-bf90-15fab3304580"
      },
      "source": [
        "s1=set([1,2,3])\r\n",
        "s1.add(4)\r\n",
        "s1"
      ],
      "execution_count": null,
      "outputs": [
        {
          "output_type": "execute_result",
          "data": {
            "text/plain": [
              "{1, 2, 3, 4}"
            ]
          },
          "metadata": {
            "tags": []
          },
          "execution_count": 28
        }
      ]
    },
    {
      "cell_type": "code",
      "metadata": {
        "colab": {
          "base_uri": "https://localhost:8080/"
        },
        "id": "h5bRunjJnQ0I",
        "outputId": "7d7754a0-7c49-4dcc-b4fe-0f49a159f567"
      },
      "source": [
        "s1=set([1,2,3])\r\n",
        "s1.update([4,5,6])\r\n",
        "s1"
      ],
      "execution_count": null,
      "outputs": [
        {
          "output_type": "execute_result",
          "data": {
            "text/plain": [
              "{1, 2, 3, 4, 5, 6}"
            ]
          },
          "metadata": {
            "tags": []
          },
          "execution_count": 29
        }
      ]
    },
    {
      "cell_type": "code",
      "metadata": {
        "colab": {
          "base_uri": "https://localhost:8080/"
        },
        "id": "VBuZeHD8nVnm",
        "outputId": "23f0e0cf-6197-4e7c-ba31-4822e2cc9048"
      },
      "source": [
        "s1=set([1,2,3])\r\n",
        "s1.remove(2)\r\n",
        "s1"
      ],
      "execution_count": null,
      "outputs": [
        {
          "output_type": "execute_result",
          "data": {
            "text/plain": [
              "{1, 3}"
            ]
          },
          "metadata": {
            "tags": []
          },
          "execution_count": 30
        }
      ]
    }
  ]
}